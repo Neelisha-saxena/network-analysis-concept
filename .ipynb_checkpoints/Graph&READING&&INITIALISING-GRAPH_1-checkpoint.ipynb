{
 "cells": [
  {
   "cell_type": "code",
   "execution_count": 1,
   "metadata": {
    "collapsed": true
   },
   "outputs": [],
   "source": [
    "%matplotlib inline\n",
    "from matplotlib import pyplot as plt\n",
    " \n",
    "import networkx as nx"
   ]
  },
  {
   "cell_type": "code",
   "execution_count": 2,
   "metadata": {
    "collapsed": true
   },
   "outputs": [],
   "source": [
    "G=nx.Graph()"
   ]
  },
  {
   "cell_type": "markdown",
   "metadata": {},
   "source": [
    "##### adding attribute to a edge"
   ]
  },
  {
   "cell_type": "code",
   "execution_count": 3,
   "metadata": {
    "collapsed": true
   },
   "outputs": [],
   "source": [
    "G.add_edge('eli','jerry',relation='love')"
   ]
  },
  {
   "cell_type": "code",
   "execution_count": 4,
   "metadata": {
    "collapsed": true
   },
   "outputs": [],
   "source": [
    "G.add_edge('eli','somya',weight=2,relation='friend')"
   ]
  },
  {
   "cell_type": "code",
   "execution_count": 5,
   "metadata": {},
   "outputs": [
    {
     "data": {
      "text/plain": [
       "[('eli', 'somya', {'relation': 'friend', 'weight': 2}),\n",
       " ('eli', 'jerry', {'relation': 'love'})]"
      ]
     },
     "execution_count": 5,
     "metadata": {},
     "output_type": "execute_result"
    }
   ],
   "source": [
    "G.edges(data=True)"
   ]
  },
  {
   "cell_type": "markdown",
   "metadata": {
    "collapsed": true
   },
   "source": [
    "## MULTIGRAPH WHERE SAME NODES CAN HAVE MANY DIFFERENT RELATIONSHIP WITH EACH OTHER AT SAME TIME"
   ]
  },
  {
   "cell_type": "code",
   "execution_count": 7,
   "metadata": {
    "collapsed": true
   },
   "outputs": [],
   "source": [
    "M=nx.MultiGraph()"
   ]
  },
  {
   "cell_type": "code",
   "execution_count": 8,
   "metadata": {
    "collapsed": true
   },
   "outputs": [],
   "source": [
    "M.add_edge('eli','jerry',relation='love')\n",
    "M.add_edge('eli','jerry',relation='friend')"
   ]
  },
  {
   "cell_type": "code",
   "execution_count": 9,
   "metadata": {},
   "outputs": [
    {
     "data": {
      "text/plain": [
       "{0: {'relation': 'love'}, 1: {'relation': 'friend'}}"
      ]
     },
     "execution_count": 9,
     "metadata": {},
     "output_type": "execute_result"
    }
   ],
   "source": [
    "M.edge['eli']['jerry']#accesing data of a perticular edge"
   ]
  },
  {
   "cell_type": "code",
   "execution_count": 10,
   "metadata": {},
   "outputs": [
    {
     "data": {
      "text/plain": [
       "'love'"
      ]
     },
     "execution_count": 10,
     "metadata": {},
     "output_type": "execute_result"
    }
   ],
   "source": [
    "G.edge['eli']['jerry']['relation']"
   ]
  },
  {
   "cell_type": "code",
   "execution_count": 11,
   "metadata": {},
   "outputs": [
    {
     "data": {
      "text/plain": [
       "'love'"
      ]
     },
     "execution_count": 11,
     "metadata": {},
     "output_type": "execute_result"
    }
   ],
   "source": [
    "M.edge['eli']['jerry'][0]['relation']"
   ]
  },
  {
   "cell_type": "markdown",
   "metadata": {},
   "source": [
    "###### adding attribute to a node"
   ]
  },
  {
   "cell_type": "code",
   "execution_count": 12,
   "metadata": {
    "collapsed": true
   },
   "outputs": [],
   "source": [
    "C=nx.Graph()\n"
   ]
  },
  {
   "cell_type": "code",
   "execution_count": 13,
   "metadata": {
    "collapsed": true
   },
   "outputs": [],
   "source": [
    "C.add_edge('A','B')\n",
    "C.add_edge('A','C')\n",
    "C.add_edge('A','D')"
   ]
  },
  {
   "cell_type": "code",
   "execution_count": 14,
   "metadata": {
    "collapsed": true
   },
   "outputs": [],
   "source": [
    "C.add_node(\"A\",role='Boss')"
   ]
  },
  {
   "cell_type": "code",
   "execution_count": 15,
   "metadata": {
    "collapsed": true
   },
   "outputs": [],
   "source": [
    "C.add_node(\"B\",role='data analyst')\n",
    "C.add_node(\"C\",role='peon')\n",
    "C.add_node(\"D\",role='manager')"
   ]
  },
  {
   "cell_type": "code",
   "execution_count": 16,
   "metadata": {},
   "outputs": [
    {
     "data": {
      "text/plain": [
       "{'role': 'Boss'}"
      ]
     },
     "execution_count": 16,
     "metadata": {},
     "output_type": "execute_result"
    }
   ],
   "source": [
    "C.node['A']"
   ]
  },
  {
   "cell_type": "code",
   "execution_count": 17,
   "metadata": {},
   "outputs": [
    {
     "data": {
      "text/plain": [
       "[('D', {'role': 'manager'}),\n",
       " ('B', {'role': 'data analyst'}),\n",
       " ('C', {'role': 'peon'}),\n",
       " ('A', {'role': 'Boss'})]"
      ]
     },
     "execution_count": 17,
     "metadata": {},
     "output_type": "execute_result"
    }
   ],
   "source": [
    "C.nodes(data=True)"
   ]
  },
  {
   "cell_type": "markdown",
   "metadata": {},
   "source": [
    "### Bipartitie graph \n",
    "<li>In a Graph there are two set of nodes 'L','R' and there is edges from L to R only \n",
    "<li> a bipartite graph cannot contain a cycle of an odd number of nodes.\n",
    "\n",
    "\n"
   ]
  },
  {
   "cell_type": "code",
   "execution_count": 18,
   "metadata": {
    "collapsed": true
   },
   "outputs": [],
   "source": [
    "from networkx.algorithms import  bipartite #to study bipartite graph"
   ]
  },
  {
   "cell_type": "code",
   "execution_count": 19,
   "metadata": {
    "collapsed": true
   },
   "outputs": [],
   "source": [
    "B=nx.Graph()"
   ]
  },
  {
   "cell_type": "code",
   "execution_count": 20,
   "metadata": {
    "collapsed": true
   },
   "outputs": [],
   "source": [
    "B.add_nodes_from(['A','B','C','D','E'],bipartite=0)#this is one set of note for bipartite graph"
   ]
  },
  {
   "cell_type": "code",
   "execution_count": 21,
   "metadata": {
    "collapsed": true
   },
   "outputs": [],
   "source": [
    "B.add_nodes_from(['1','2','3','4',],bipartite=1)#this is one set of note for bipartite graph"
   ]
  },
  {
   "cell_type": "code",
   "execution_count": 22,
   "metadata": {
    "collapsed": true
   },
   "outputs": [],
   "source": [
    "B.add_edges_from([('A','1'),('B','2'),('C','1'),('D','3'),('E','4')])"
   ]
  },
  {
   "cell_type": "code",
   "execution_count": 23,
   "metadata": {
    "collapsed": true
   },
   "outputs": [],
   "source": [
    "B.add_edges_from([('B','1'), ('C','2'),('D','4'),('E','1')])"
   ]
  },
  {
   "cell_type": "code",
   "execution_count": 24,
   "metadata": {},
   "outputs": [
    {
     "data": {
      "text/plain": [
       "True"
      ]
     },
     "execution_count": 24,
     "metadata": {},
     "output_type": "execute_result"
    }
   ],
   "source": [
    "bipartite.is_bipartite(B)"
   ]
  },
  {
   "cell_type": "code",
   "execution_count": 25,
   "metadata": {
    "collapsed": true
   },
   "outputs": [],
   "source": [
    "X=set(['1','2','3','4'])"
   ]
  },
  {
   "cell_type": "code",
   "execution_count": 26,
   "metadata": {},
   "outputs": [
    {
     "data": {
      "text/plain": [
       "True"
      ]
     },
     "execution_count": 26,
     "metadata": {},
     "output_type": "execute_result"
    }
   ],
   "source": [
    "bipartite.is_bipartite_node_set(B,X)"
   ]
  },
  {
   "cell_type": "code",
   "execution_count": 27,
   "metadata": {},
   "outputs": [
    {
     "data": {
      "text/plain": [
       "({'1', '2', '3', '4'}, {'A', 'B', 'C', 'D', 'E'})"
      ]
     },
     "execution_count": 27,
     "metadata": {},
     "output_type": "execute_result"
    }
   ],
   "source": [
    "bipartite.sets(B)"
   ]
  },
  {
   "cell_type": "code",
   "execution_count": 28,
   "metadata": {
    "collapsed": true
   },
   "outputs": [],
   "source": [
    "B.add_nodes_from(['F','G','H','I'],bipartite=0)"
   ]
  },
  {
   "cell_type": "code",
   "execution_count": 29,
   "metadata": {
    "collapsed": true
   },
   "outputs": [],
   "source": [
    "B.add_edges_from([('F','1'),('F','4'),('G','3'),('G','2'),('I','2'),('H','1'),('I','4')])"
   ]
  },
  {
   "cell_type": "markdown",
   "metadata": {},
   "source": [
    "#### we can now form the connection between  set of A ,B ,C... that have atleast one team in common ex F,A both are connected to 1 "
   ]
  },
  {
   "cell_type": "code",
   "execution_count": 30,
   "metadata": {},
   "outputs": [
    {
     "data": {
      "text/plain": [
       "({'1', '2', '3', '4'}, {'A', 'B', 'C', 'D', 'E', 'F', 'G', 'H', 'I'})"
      ]
     },
     "execution_count": 30,
     "metadata": {},
     "output_type": "execute_result"
    }
   ],
   "source": [
    "bipartite.sets(B)"
   ]
  },
  {
   "cell_type": "code",
   "execution_count": 31,
   "metadata": {
    "collapsed": true
   },
   "outputs": [],
   "source": [
    "X=set(['A', 'B', 'C', 'D', 'E', 'F', 'G', 'H', 'I'])"
   ]
  },
  {
   "cell_type": "code",
   "execution_count": 32,
   "metadata": {
    "collapsed": true
   },
   "outputs": [],
   "source": [
    "P=bipartite.projected_graph(B,X)"
   ]
  },
  {
   "cell_type": "code",
   "execution_count": 33,
   "metadata": {},
   "outputs": [
    {
     "name": "stderr",
     "output_type": "stream",
     "text": [
      "/usr/local/lib/python3.4/dist-packages/networkx/drawing/nx_pylab.py:126: MatplotlibDeprecationWarning: pyplot.hold is deprecated.\n",
      "    Future behavior will be consistent with the long-time default:\n",
      "    plot commands add elements without first clearing the\n",
      "    Axes and/or Figure.\n",
      "  b = plt.ishold()\n",
      "/usr/local/lib/python3.4/dist-packages/networkx/drawing/nx_pylab.py:138: MatplotlibDeprecationWarning: pyplot.hold is deprecated.\n",
      "    Future behavior will be consistent with the long-time default:\n",
      "    plot commands add elements without first clearing the\n",
      "    Axes and/or Figure.\n",
      "  plt.hold(b)\n",
      "/usr/local/lib/python3.4/dist-packages/matplotlib/__init__.py:917: UserWarning: axes.hold is deprecated. Please remove it from your matplotlibrc and/or style files.\n",
      "  warnings.warn(self.msg_depr_set % key)\n",
      "/usr/local/lib/python3.4/dist-packages/matplotlib/rcsetup.py:152: UserWarning: axes.hold is deprecated, will be removed in 3.0\n",
      "  warnings.warn(\"axes.hold is deprecated, will be removed in 3.0\")\n"
     ]
    },
    {
     "data": {
      "image/png": "[encoded data removed]",
      "text/plain": [
       "<matplotlib.figure.Figure at 0x7fdcb78d4400>"
      ]
     },
     "metadata": {},
     "output_type": "display_data"
    }
   ],
   "source": [
    "nx.draw(P, with_labels = True)"
   ]
  },
  {
   "cell_type": "code",
   "execution_count": 34,
   "metadata": {
    "collapsed": true
   },
   "outputs": [],
   "source": [
    "l=set([ '1', '2', '3', '4'])"
   ]
  },
  {
   "cell_type": "code",
   "execution_count": 35,
   "metadata": {
    "collapsed": true
   },
   "outputs": [],
   "source": [
    "F=bipartite.projected_graph(B,l)"
   ]
  },
  {
   "cell_type": "code",
   "execution_count": 36,
   "metadata": {},
   "outputs": [
    {
     "name": "stderr",
     "output_type": "stream",
     "text": [
      "/usr/local/lib/python3.4/dist-packages/networkx/drawing/nx_pylab.py:126: MatplotlibDeprecationWarning: pyplot.hold is deprecated.\n",
      "    Future behavior will be consistent with the long-time default:\n",
      "    plot commands add elements without first clearing the\n",
      "    Axes and/or Figure.\n",
      "  b = plt.ishold()\n",
      "/usr/local/lib/python3.4/dist-packages/networkx/drawing/nx_pylab.py:138: MatplotlibDeprecationWarning: pyplot.hold is deprecated.\n",
      "    Future behavior will be consistent with the long-time default:\n",
      "    plot commands add elements without first clearing the\n",
      "    Axes and/or Figure.\n",
      "  plt.hold(b)\n",
      "/usr/local/lib/python3.4/dist-packages/matplotlib/__init__.py:917: UserWarning: axes.hold is deprecated. Please remove it from your matplotlibrc and/or style files.\n",
      "  warnings.warn(self.msg_depr_set % key)\n",
      "/usr/local/lib/python3.4/dist-packages/matplotlib/rcsetup.py:152: UserWarning: axes.hold is deprecated, will be removed in 3.0\n",
      "  warnings.warn(\"axes.hold is deprecated, will be removed in 3.0\")\n"
     ]
    },
    {
     "data": {
      "image/png": "[encoded data removed]",
      "text/plain": [
       "<matplotlib.figure.Figure at 0x7fdcb57e3c50>"
      ]
     },
     "metadata": {},
     "output_type": "display_data"
    }
   ],
   "source": [
    "nx.draw(F, with_labels = True)"
   ]
  },
  {
   "cell_type": "code",
   "execution_count": 37,
   "metadata": {
    "collapsed": true
   },
   "outputs": [],
   "source": [
    " P=bipartite.weighted_projected_graph(B,X)"
   ]
  },
  {
   "cell_type": "code",
   "execution_count": 38,
   "metadata": {
    "scrolled": true
   },
   "outputs": [
    {
     "name": "stderr",
     "output_type": "stream",
     "text": [
      "/usr/local/lib/python3.4/dist-packages/networkx/drawing/nx_pylab.py:126: MatplotlibDeprecationWarning: pyplot.hold is deprecated.\n",
      "    Future behavior will be consistent with the long-time default:\n",
      "    plot commands add elements without first clearing the\n",
      "    Axes and/or Figure.\n",
      "  b = plt.ishold()\n",
      "/usr/local/lib/python3.4/dist-packages/networkx/drawing/nx_pylab.py:138: MatplotlibDeprecationWarning: pyplot.hold is deprecated.\n",
      "    Future behavior will be consistent with the long-time default:\n",
      "    plot commands add elements without first clearing the\n",
      "    Axes and/or Figure.\n",
      "  plt.hold(b)\n",
      "/usr/local/lib/python3.4/dist-packages/matplotlib/__init__.py:917: UserWarning: axes.hold is deprecated. Please remove it from your matplotlibrc and/or style files.\n",
      "  warnings.warn(self.msg_depr_set % key)\n",
      "/usr/local/lib/python3.4/dist-packages/matplotlib/rcsetup.py:152: UserWarning: axes.hold is deprecated, will be removed in 3.0\n",
      "  warnings.warn(\"axes.hold is deprecated, will be removed in 3.0\")\n"
     ]
    },
    {
     "data": {
      "image/png": "[encoded data removed]",
      "text/plain": [
       "<matplotlib.figure.Figure at 0x7fdcb5781898>"
      ]
     },
     "metadata": {},
     "output_type": "display_data"
    }
   ],
   "source": [
    "nx.draw(P,with_labels=True)\n"
   ]
  },
  {
   "cell_type": "code",
   "execution_count": 39,
   "metadata": {
    "collapsed": true
   },
   "outputs": [],
   "source": [
    "nx.draw?"
   ]
  },
  {
   "cell_type": "code",
   "execution_count": 40,
   "metadata": {
    "collapsed": true
   },
   "outputs": [],
   "source": [
    "F=bipartite.weighted_projected_graph(B,l)"
   ]
  },
  {
   "cell_type": "code",
   "execution_count": 41,
   "metadata": {},
   "outputs": [
    {
     "name": "stderr",
     "output_type": "stream",
     "text": [
      "/usr/local/lib/python3.4/dist-packages/networkx/drawing/nx_pylab.py:126: MatplotlibDeprecationWarning: pyplot.hold is deprecated.\n",
      "    Future behavior will be consistent with the long-time default:\n",
      "    plot commands add elements without first clearing the\n",
      "    Axes and/or Figure.\n",
      "  b = plt.ishold()\n",
      "/usr/local/lib/python3.4/dist-packages/networkx/drawing/nx_pylab.py:138: MatplotlibDeprecationWarning: pyplot.hold is deprecated.\n",
      "    Future behavior will be consistent with the long-time default:\n",
      "    plot commands add elements without first clearing the\n",
      "    Axes and/or Figure.\n",
      "  plt.hold(b)\n",
      "/usr/local/lib/python3.4/dist-packages/matplotlib/__init__.py:917: UserWarning: axes.hold is deprecated. Please remove it from your matplotlibrc and/or style files.\n",
      "  warnings.warn(self.msg_depr_set % key)\n",
      "/usr/local/lib/python3.4/dist-packages/matplotlib/rcsetup.py:152: UserWarning: axes.hold is deprecated, will be removed in 3.0\n",
      "  warnings.warn(\"axes.hold is deprecated, will be removed in 3.0\")\n"
     ]
    },
    {
     "data": {
      "image/png": "[encoded data removed]",
      "text/plain": [
       "<matplotlib.figure.Figure at 0x7fdcb56ff278>"
      ]
     },
     "metadata": {},
     "output_type": "display_data"
    }
   ],
   "source": [
    "pos=nx.spring_layout(F)\n",
    "nx.draw(F,pos)\n",
    "node_labels=nx.get_node_attributes(F,'name')\n",
    "labels = nx.get_edge_attributes(F,'weight')\n",
    "nx.draw_networkx_edge_labels(F,pos,edge_labels=labels  )\n",
    "nx.draw(F,pos,edge_labels=labels,with_labels=True)"
   ]
  },
  {
   "cell_type": "code",
   "execution_count": 42,
   "metadata": {},
   "outputs": [
    {
     "name": "stderr",
     "output_type": "stream",
     "text": [
      "/usr/local/lib/python3.4/dist-packages/networkx/drawing/nx_pylab.py:126: MatplotlibDeprecationWarning: pyplot.hold is deprecated.\n",
      "    Future behavior will be consistent with the long-time default:\n",
      "    plot commands add elements without first clearing the\n",
      "    Axes and/or Figure.\n",
      "  b = plt.ishold()\n",
      "/usr/local/lib/python3.4/dist-packages/networkx/drawing/nx_pylab.py:138: MatplotlibDeprecationWarning: pyplot.hold is deprecated.\n",
      "    Future behavior will be consistent with the long-time default:\n",
      "    plot commands add elements without first clearing the\n",
      "    Axes and/or Figure.\n",
      "  plt.hold(b)\n",
      "/usr/local/lib/python3.4/dist-packages/matplotlib/__init__.py:917: UserWarning: axes.hold is deprecated. Please remove it from your matplotlibrc and/or style files.\n",
      "  warnings.warn(self.msg_depr_set % key)\n",
      "/usr/local/lib/python3.4/dist-packages/matplotlib/rcsetup.py:152: UserWarning: axes.hold is deprecated, will be removed in 3.0\n",
      "  warnings.warn(\"axes.hold is deprecated, will be removed in 3.0\")\n"
     ]
    },
    {
     "data": {
      "text/plain": [
       "{('B', 'A'): <matplotlib.text.Text at 0x7fdcb5721ba8>,\n",
       " ('B', 'C'): <matplotlib.text.Text at 0x7fdcb573f160>,\n",
       " ('B', 'E'): <matplotlib.text.Text at 0x7fdcb573f6d8>,\n",
       " ('B', 'F'): <matplotlib.text.Text at 0x7fdcb56ea048>,\n",
       " ('B', 'G'): <matplotlib.text.Text at 0x7fdcb5672550>,\n",
       " ('B', 'H'): <matplotlib.text.Text at 0x7fdcb571c518>,\n",
       " ('C', 'A'): <matplotlib.text.Text at 0x7fdcb576f9e8>,\n",
       " ('C', 'F'): <matplotlib.text.Text at 0x7fdcb56e6550>,\n",
       " ('C', 'H'): <matplotlib.text.Text at 0x7fdcb56f6978>,\n",
       " ('D', 'E'): <matplotlib.text.Text at 0x7fdcb56f2ba8>,\n",
       " ('D', 'F'): <matplotlib.text.Text at 0x7fdcb571cac8>,\n",
       " ('E', 'A'): <matplotlib.text.Text at 0x7fdcb56ea390>,\n",
       " ('E', 'C'): <matplotlib.text.Text at 0x7fdcb5672f28>,\n",
       " ('E', 'F'): <matplotlib.text.Text at 0x7fdcb5683278>,\n",
       " ('E', 'H'): <matplotlib.text.Text at 0x7fdcb56f2898>,\n",
       " ('F', 'A'): <matplotlib.text.Text at 0x7fdcb572b978>,\n",
       " ('G', 'C'): <matplotlib.text.Text at 0x7fdcb56c5160>,\n",
       " ('G', 'D'): <matplotlib.text.Text at 0x7fdcb56fff60>,\n",
       " ('H', 'A'): <matplotlib.text.Text at 0x7fdcb576f860>,\n",
       " ('H', 'F'): <matplotlib.text.Text at 0x7fdcb56e6e48>,\n",
       " ('I', 'B'): <matplotlib.text.Text at 0x7fdcb5721c50>,\n",
       " ('I', 'C'): <matplotlib.text.Text at 0x7fdcb56fa048>,\n",
       " ('I', 'D'): <matplotlib.text.Text at 0x7fdcb56f6e10>,\n",
       " ('I', 'E'): <matplotlib.text.Text at 0x7fdcb572be48>,\n",
       " ('I', 'F'): <matplotlib.text.Text at 0x7fdcb5683b38>,\n",
       " ('I', 'G'): <matplotlib.text.Text at 0x7fdcb56c5470>}"
      ]
     },
     "execution_count": 42,
     "metadata": {},
     "output_type": "execute_result"
    },
    {
     "data": {
      "image/png": "[encoded data removed]",
      "text/plain": [
       "<matplotlib.figure.Figure at 0x7fdcb56ff978>"
      ]
     },
     "metadata": {},
     "output_type": "display_data"
    }
   ],
   "source": [
    "pos=nx.spring_layout(P)\n",
    "nx.draw(P,pos)\n",
    "node_labels=nx.get_node_attributes(P,'name')\n",
    "labels = nx.get_edge_attributes(P,'weight')\n",
    "nx.draw_networkx_edge_labels(P,pos,edge_labels=labels  )\n",
    " "
   ]
  },
  {
   "cell_type": "code",
   "execution_count": 43,
   "metadata": {},
   "outputs": [
    {
     "data": {
      "text/plain": [
       "([('I', 'B'),\n",
       "  ('I', 'G'),\n",
       "  ('I', 'D'),\n",
       "  ('I', 'E'),\n",
       "  ('I', 'F'),\n",
       "  ('I', 'C'),\n",
       "  ('B', 'H'),\n",
       "  ('B', 'G'),\n",
       "  ('B', 'E'),\n",
       "  ('B', 'A'),\n",
       "  ('B', 'F'),\n",
       "  ('B', 'C'),\n",
       "  ('G', 'D'),\n",
       "  ('G', 'C'),\n",
       "  ('D', 'E'),\n",
       "  ('D', 'F'),\n",
       "  ('E', 'H'),\n",
       "  ('E', 'A'),\n",
       "  ('E', 'F'),\n",
       "  ('E', 'C'),\n",
       "  ('C', 'H'),\n",
       "  ('C', 'F'),\n",
       "  ('C', 'A'),\n",
       "  ('H', 'F'),\n",
       "  ('H', 'A'),\n",
       "  ('F', 'A')],\n",
       " [('1', 'B'),\n",
       "  ('1', 'H'),\n",
       "  ('1', 'E'),\n",
       "  ('1', 'A'),\n",
       "  ('1', 'F'),\n",
       "  ('1', 'C'),\n",
       "  ('B', '2'),\n",
       "  ('G', '2'),\n",
       "  ('G', '3'),\n",
       "  ('D', '3'),\n",
       "  ('D', '4'),\n",
       "  ('2', 'I'),\n",
       "  ('2', 'C'),\n",
       "  ('E', '4'),\n",
       "  ('I', '4'),\n",
       "  ('4', 'F')])"
      ]
     },
     "execution_count": 43,
     "metadata": {},
     "output_type": "execute_result"
    }
   ],
   "source": [
    "P.edges(),B.edges()"
   ]
  },
  {
   "cell_type": "code",
   "execution_count": 44,
   "metadata": {},
   "outputs": [
    {
     "data": {
      "text/plain": [
       "{'weight': 1}"
      ]
     },
     "execution_count": 44,
     "metadata": {},
     "output_type": "execute_result"
    }
   ],
   "source": [
    "P.edge['A']['F']"
   ]
  },
  {
   "cell_type": "markdown",
   "metadata": {},
   "source": [
    "# coursera  notebook "
   ]
  },
  {
   "cell_type": "markdown",
   "metadata": {},
   "source": [
    "# Reading of Graph and intialising Graph\n",
    "` "
   ]
  },
  {
   "cell_type": "code",
   "execution_count": 46,
   "metadata": {},
   "outputs": [
    {
     "data": {
      "application/javascript": [
       "/* Put everything inside the global mpl namespace */\n",
       "window.mpl = {};\n",
       "\n",
       "\n",
       "mpl.get_websocket_type = function() {\n",
       "    if (typeof(WebSocket) !== 'undefined') {\n",
       "        return WebSocket;\n",
       "    } else if (typeof(MozWebSocket) !== 'undefined') {\n",
       "        return MozWebSocket;\n",
       "    } else {\n",
       "        alert('Your browser does not have WebSocket support.' +\n",
       "              'Please try Chrome, Safari or Firefox ≥ 6. ' +\n",
       "              'Firefox 4 and 5 are also supported but you ' +\n",
       "              'have to enable WebSockets in about:config.');\n",
       "    };\n",
       "}\n",
       "\n",
       "mpl.figure = function(figure_id, websocket, ondownload, parent_element) {\n",
       "    this.id = figure_id;\n",
       "\n",
       "    this.ws = websocket;\n",
       "\n",
       "    this.supports_binary = (this.ws.binaryType != undefined);\n",
       "\n",
       "    if (!this.supports_binary) {\n",
       "        var warnings = document.getElementById(\"mpl-warnings\");\n",
       "        if (warnings) {\n",
       "            warnings.style.display = 'block';\n",
       "            warnings.textContent = (\n",
       "                \"This browser does not support binary websocket messages. \" +\n",
       "                    \"Performance may be slow.\");\n",
       "        }\n",
       "    }\n",
       "\n",
       "    this.imageObj = new Image();\n",
       "\n",
       "    this.context = undefined;\n",
       "    this.message = undefined;\n",
       "    this.canvas = undefined;\n",
       "    this.rubberband_canvas = undefined;\n",
       "    this.rubberband_context = undefined;\n",
       "    this.format_dropdown = undefined;\n",
       "\n",
       "    this.image_mode = 'full';\n",
       "\n",
       "    this.root = $('<div/>');\n",
       "    this._root_extra_style(this.root)\n",
       "    this.root.attr('style', 'display: inline-block');\n",
       "\n",
       "    $(parent_element).append(this.root);\n",
       "\n",
       "    this._init_header(this);\n",
       "    this._init_canvas(this);\n",
       "    this._init_toolbar(this);\n",
       "\n",
       "    var fig = this;\n",
       "\n",
       "    this.waiting = false;\n",
       "\n",
       "    this.ws.onopen =  function () {\n",
       "            fig.send_message(\"supports_binary\", {value: fig.supports_binary});\n",
       "            fig.send_message(\"send_image_mode\", {});\n",
       "            if (mpl.ratio != 1) {\n",
       "                fig.send_message(\"set_dpi_ratio\", {'dpi_ratio': mpl.ratio});\n",
       "            }\n",
       "            fig.send_message(\"refresh\", {});\n",
       "        }\n",
       "\n",
       "    this.imageObj.onload = function() {\n",
       "            if (fig.image_mode == 'full') {\n",
       "                // Full images could contain transparency (where diff images\n",
       "                // almost always do), so we need to clear the canvas so that\n",
       "                // there is no ghosting.\n",
       "                fig.context.clearRect(0, 0, fig.canvas.width, fig.canvas.height);\n",
       "            }\n",
       "            fig.context.drawImage(fig.imageObj, 0, 0);\n",
       "        };\n",
       "\n",
       "    this.imageObj.onunload = function() {\n",
       "        this.ws.close();\n",
       "    }\n",
       "\n",
       "    this.ws.onmessage = this._make_on_message_function(this);\n",
       "\n",
       "    this.ondownload = ondownload;\n",
       "}\n",
       "\n",
       "mpl.figure.prototype._init_header = function() {\n",
       "    var titlebar = $(\n",
       "        '<div class=\"ui-dialog-titlebar ui-widget-header ui-corner-all ' +\n",
       "        'ui-helper-clearfix\"/>');\n",
       "    var titletext = $(\n",
       "        '<div class=\"ui-dialog-title\" style=\"width: 100%; ' +\n",
       "        'text-align: center; padding: 3px;\"/>');\n",
       "    titlebar.append(titletext)\n",
       "    this.root.append(titlebar);\n",
       "    this.header = titletext[0];\n",
       "}\n",
       "\n",
       "\n",
       "\n",
       "mpl.figure.prototype._canvas_extra_style = function(canvas_div) {\n",
       "\n",
       "}\n",
       "\n",
       "\n",
       "mpl.figure.prototype._root_extra_style = function(canvas_div) {\n",
       "\n",
       "}\n",
       "\n",
       "mpl.figure.prototype._init_canvas = function() {\n",
       "    var fig = this;\n",
       "\n",
       "    var canvas_div = $('<div/>');\n",
       "\n",
       "    canvas_div.attr('style', 'position: relative; clear: both; outline: 0');\n",
       "\n",
       "    function canvas_keyboard_event(event) {\n",
       "        return fig.key_event(event, event['data']);\n",
       "    }\n",
       "\n",
       "    canvas_div.keydown('key_press', canvas_keyboard_event);\n",
       "    canvas_div.keyup('key_release', canvas_keyboard_event);\n",
       "    this.canvas_div = canvas_div\n",
       "    this._canvas_extra_style(canvas_div)\n",
       "    this.root.append(canvas_div);\n",
       "\n",
       "    var canvas = $('<canvas/>');\n",
       "    canvas.addClass('mpl-canvas');\n",
       "    canvas.attr('style', \"left: 0; top: 0; z-index: 0; outline: 0\")\n",
       "\n",
       "    this.canvas = canvas[0];\n",
       "    this.context = canvas[0].getContext(\"2d\");\n",
       "\n",
       "    var backingStore = this.context.backingStorePixelRatio ||\n",
       "\tthis.context.webkitBackingStorePixelRatio ||\n",
       "\tthis.context.mozBackingStorePixelRatio ||\n",
       "\tthis.context.msBackingStorePixelRatio ||\n",
       "\tthis.context.oBackingStorePixelRatio ||\n",
       "\tthis.context.backingStorePixelRatio || 1;\n",
       "\n",
       "    mpl.ratio = (window.devicePixelRatio || 1) / backingStore;\n",
       "\n",
       "    var rubberband = $('<canvas/>');\n",
       "    rubberband.attr('style', \"position: absolute; left: 0; top: 0; z-index: 1;\")\n",
       "\n",
       "    var pass_mouse_events = true;\n",
       "\n",
       "    canvas_div.resizable({\n",
       "        start: function(event, ui) {\n",
       "            pass_mouse_events = false;\n",
       "        },\n",
       "        resize: function(event, ui) {\n",
       "            fig.request_resize(ui.size.width, ui.size.height);\n",
       "        },\n",
       "        stop: function(event, ui) {\n",
       "            pass_mouse_events = true;\n",
       "            fig.request_resize(ui.size.width, ui.size.height);\n",
       "        },\n",
       "    });\n",
       "\n",
       "    function mouse_event_fn(event) {\n",
       "        if (pass_mouse_events)\n",
       "            return fig.mouse_event(event, event['data']);\n",
       "    }\n",
       "\n",
       "    rubberband.mousedown('button_press', mouse_event_fn);\n",
       "    rubberband.mouseup('button_release', mouse_event_fn);\n",
       "    // Throttle sequential mouse events to 1 every 20ms.\n",
       "    rubberband.mousemove('motion_notify', mouse_event_fn);\n",
       "\n",
       "    rubberband.mouseenter('figure_enter', mouse_event_fn);\n",
       "    rubberband.mouseleave('figure_leave', mouse_event_fn);\n",
       "\n",
       "    canvas_div.on(\"wheel\", function (event) {\n",
       "        event = event.originalEvent;\n",
       "        event['data'] = 'scroll'\n",
       "        if (event.deltaY < 0) {\n",
       "            event.step = 1;\n",
       "        } else {\n",
       "            event.step = -1;\n",
       "        }\n",
       "        mouse_event_fn(event);\n",
       "    });\n",
       "\n",
       "    canvas_div.append(canvas);\n",
       "    canvas_div.append(rubberband);\n",
       "\n",
       "    this.rubberband = rubberband;\n",
       "    this.rubberband_canvas = rubberband[0];\n",
       "    this.rubberband_context = rubberband[0].getContext(\"2d\");\n",
       "    this.rubberband_context.strokeStyle = \"#000000\";\n",
       "\n",
       "    this._resize_canvas = function(width, height) {\n",
       "        // Keep the size of the canvas, canvas container, and rubber band\n",
       "        // canvas in synch.\n",
       "        canvas_div.css('width', width)\n",
       "        canvas_div.css('height', height)\n",
       "\n",
       "        canvas.attr('width', width * mpl.ratio);\n",
       "        canvas.attr('height', height * mpl.ratio);\n",
       "        canvas.attr('style', 'width: ' + width + 'px; height: ' + height + 'px;');\n",
       "\n",
       "        rubberband.attr('width', width);\n",
       "        rubberband.attr('height', height);\n",
       "    }\n",
       "\n",
       "    // Set the figure to an initial 600x600px, this will subsequently be updated\n",
       "    // upon first draw.\n",
       "    this._resize_canvas(600, 600);\n",
       "\n",
       "    // Disable right mouse context menu.\n",
       "    $(this.rubberband_canvas).bind(\"contextmenu\",function(e){\n",
       "        return false;\n",
       "    });\n",
       "\n",
       "    function set_focus () {\n",
       "        canvas.focus();\n",
       "        canvas_div.focus();\n",
       "    }\n",
       "\n",
       "    window.setTimeout(set_focus, 100);\n",
       "}\n",
       "\n",
       "mpl.figure.prototype._init_toolbar = function() {\n",
       "    var fig = this;\n",
       "\n",
       "    var nav_element = $('<div/>')\n",
       "    nav_element.attr('style', 'width: 100%');\n",
       "    this.root.append(nav_element);\n",
       "\n",
       "    // Define a callback function for later on.\n",
       "    function toolbar_event(event) {\n",
       "        return fig.toolbar_button_onclick(event['data']);\n",
       "    }\n",
       "    function toolbar_mouse_event(event) {\n",
       "        return fig.toolbar_button_onmouseover(event['data']);\n",
       "    }\n",
       "\n",
       "    for(var toolbar_ind in mpl.toolbar_items) {\n",
       "        var name = mpl.toolbar_items[toolbar_ind][0];\n",
       "        var tooltip = mpl.toolbar_items[toolbar_ind][1];\n",
       "        var image = mpl.toolbar_items[toolbar_ind][2];\n",
       "        var method_name = mpl.toolbar_items[toolbar_ind][3];\n",
       "\n",
       "        if (!name) {\n",
       "            // put a spacer in here.\n",
       "            continue;\n",
       "        }\n",
       "        var button = $('<button/>');\n",
       "        button.addClass('ui-button ui-widget ui-state-default ui-corner-all ' +\n",
       "                        'ui-button-icon-only');\n",
       "        button.attr('role', 'button');\n",
       "        button.attr('aria-disabled', 'false');\n",
       "        button.click(method_name, toolbar_event);\n",
       "        button.mouseover(tooltip, toolbar_mouse_event);\n",
       "\n",
       "        var icon_img = $('<span/>');\n",
       "        icon_img.addClass('ui-button-icon-primary ui-icon');\n",
       "        icon_img.addClass(image);\n",
       "        icon_img.addClass('ui-corner-all');\n",
       "\n",
       "        var tooltip_span = $('<span/>');\n",
       "        tooltip_span.addClass('ui-button-text');\n",
       "        tooltip_span.html(tooltip);\n",
       "\n",
       "        button.append(icon_img);\n",
       "        button.append(tooltip_span);\n",
       "\n",
       "        nav_element.append(button);\n",
       "    }\n",
       "\n",
       "    var fmt_picker_span = $('<span/>');\n",
       "\n",
       "    var fmt_picker = $('<select/>');\n",
       "    fmt_picker.addClass('mpl-toolbar-option ui-widget ui-widget-content');\n",
       "    fmt_picker_span.append(fmt_picker);\n",
       "    nav_element.append(fmt_picker_span);\n",
       "    this.format_dropdown = fmt_picker[0];\n",
       "\n",
       "    for (var ind in mpl.extensions) {\n",
       "        var fmt = mpl.extensions[ind];\n",
       "        var option = $(\n",
       "            '<option/>', {selected: fmt === mpl.default_extension}).html(fmt);\n",
       "        fmt_picker.append(option)\n",
       "    }\n",
       "\n",
       "    // Add hover states to the ui-buttons\n",
       "    $( \".ui-button\" ).hover(\n",
       "        function() { $(this).addClass(\"ui-state-hover\");},\n",
       "        function() { $(this).removeClass(\"ui-state-hover\");}\n",
       "    );\n",
       "\n",
       "    var status_bar = $('<span class=\"mpl-message\"/>');\n",
       "    nav_element.append(status_bar);\n",
       "    this.message = status_bar[0];\n",
       "}\n",
       "\n",
       "mpl.figure.prototype.request_resize = function(x_pixels, y_pixels) {\n",
       "    // Request matplotlib to resize the figure. Matplotlib will then trigger a resize in the client,\n",
       "    // which will in turn request a refresh of the image.\n",
       "    this.send_message('resize', {'width': x_pixels, 'height': y_pixels});\n",
       "}\n",
       "\n",
       "mpl.figure.prototype.send_message = function(type, properties) {\n",
       "    properties['type'] = type;\n",
       "    properties['figure_id'] = this.id;\n",
       "    this.ws.send(JSON.stringify(properties));\n",
       "}\n",
       "\n",
       "mpl.figure.prototype.send_draw_message = function() {\n",
       "    if (!this.waiting) {\n",
       "        this.waiting = true;\n",
       "        this.ws.send(JSON.stringify({type: \"draw\", figure_id: this.id}));\n",
       "    }\n",
       "}\n",
       "\n",
       "\n",
       "mpl.figure.prototype.handle_save = function(fig, msg) {\n",
       "    var format_dropdown = fig.format_dropdown;\n",
       "    var format = format_dropdown.options[format_dropdown.selectedIndex].value;\n",
       "    fig.ondownload(fig, format);\n",
       "}\n",
       "\n",
       "\n",
       "mpl.figure.prototype.handle_resize = function(fig, msg) {\n",
       "    var size = msg['size'];\n",
       "    if (size[0] != fig.canvas.width || size[1] != fig.canvas.height) {\n",
       "        fig._resize_canvas(size[0], size[1]);\n",
       "        fig.send_message(\"refresh\", {});\n",
       "    };\n",
       "}\n",
       "\n",
       "mpl.figure.prototype.handle_rubberband = function(fig, msg) {\n",
       "    var x0 = msg['x0'] / mpl.ratio;\n",
       "    var y0 = (fig.canvas.height - msg['y0']) / mpl.ratio;\n",
       "    var x1 = msg['x1'] / mpl.ratio;\n",
       "    var y1 = (fig.canvas.height - msg['y1']) / mpl.ratio;\n",
       "    x0 = Math.floor(x0) + 0.5;\n",
       "    y0 = Math.floor(y0) + 0.5;\n",
       "    x1 = Math.floor(x1) + 0.5;\n",
       "    y1 = Math.floor(y1) + 0.5;\n",
       "    var min_x = Math.min(x0, x1);\n",
       "    var min_y = Math.min(y0, y1);\n",
       "    var width = Math.abs(x1 - x0);\n",
       "    var height = Math.abs(y1 - y0);\n",
       "\n",
       "    fig.rubberband_context.clearRect(\n",
       "        0, 0, fig.canvas.width, fig.canvas.height);\n",
       "\n",
       "    fig.rubberband_context.strokeRect(min_x, min_y, width, height);\n",
       "}\n",
       "\n",
       "mpl.figure.prototype.handle_figure_label = function(fig, msg) {\n",
       "    // Updates the figure title.\n",
       "    fig.header.textContent = msg['label'];\n",
       "}\n",
       "\n",
       "mpl.figure.prototype.handle_cursor = function(fig, msg) {\n",
       "    var cursor = msg['cursor'];\n",
       "    switch(cursor)\n",
       "    {\n",
       "    case 0:\n",
       "        cursor = 'pointer';\n",
       "        break;\n",
       "    case 1:\n",
       "        cursor = 'default';\n",
       "        break;\n",
       "    case 2:\n",
       "        cursor = 'crosshair';\n",
       "        break;\n",
       "    case 3:\n",
       "        cursor = 'move';\n",
       "        break;\n",
       "    }\n",
       "    fig.rubberband_canvas.style.cursor = cursor;\n",
       "}\n",
       "\n",
       "mpl.figure.prototype.handle_message = function(fig, msg) {\n",
       "    fig.message.textContent = msg['message'];\n",
       "}\n",
       "\n",
       "mpl.figure.prototype.handle_draw = function(fig, msg) {\n",
       "    // Request the server to send over a new figure.\n",
       "    fig.send_draw_message();\n",
       "}\n",
       "\n",
       "mpl.figure.prototype.handle_image_mode = function(fig, msg) {\n",
       "    fig.image_mode = msg['mode'];\n",
       "}\n",
       "\n",
       "mpl.figure.prototype.updated_canvas_event = function() {\n",
       "    // Called whenever the canvas gets updated.\n",
       "    this.send_message(\"ack\", {});\n",
       "}\n",
       "\n",
       "// A function to construct a web socket function for onmessage handling.\n",
       "// Called in the figure constructor.\n",
       "mpl.figure.prototype._make_on_message_function = function(fig) {\n",
       "    return function socket_on_message(evt) {\n",
       "        if (evt.data instanceof Blob) {\n",
       "            /* FIXME: We get \"Resource interpreted as Image but\n",
       "             * transferred with MIME type text/plain:\" errors on\n",
       "             * Chrome.  But how to set the MIME type?  It doesn't seem\n",
       "             * to be part of the websocket stream */\n",
       "            evt.data.type = \"image/png\";\n",
       "\n",
       "            /* Free the memory for the previous frames */\n",
       "            if (fig.imageObj.src) {\n",
       "                (window.URL || window.webkitURL).revokeObjectURL(\n",
       "                    fig.imageObj.src);\n",
       "            }\n",
       "\n",
       "            fig.imageObj.src = (window.URL || window.webkitURL).createObjectURL(\n",
       "                evt.data);\n",
       "            fig.updated_canvas_event();\n",
       "            fig.waiting = false;\n",
       "            return;\n",
       "        }\n",
       "        else if (typeof evt.data === 'string' && evt.data.slice(0, 21) == \"data:image/png;base64\") {\n",
       "            fig.imageObj.src = evt.data;\n",
       "            fig.updated_canvas_event();\n",
       "            fig.waiting = false;\n",
       "            return;\n",
       "        }\n",
       "\n",
       "        var msg = JSON.parse(evt.data);\n",
       "        var msg_type = msg['type'];\n",
       "\n",
       "        // Call the  \"handle_{type}\" callback, which takes\n",
       "        // the figure and JSON message as its only arguments.\n",
       "        try {\n",
       "            var callback = fig[\"handle_\" + msg_type];\n",
       "        } catch (e) {\n",
       "            console.log(\"No handler for the '\" + msg_type + \"' message type: \", msg);\n",
       "            return;\n",
       "        }\n",
       "\n",
       "        if (callback) {\n",
       "            try {\n",
       "                // console.log(\"Handling '\" + msg_type + \"' message: \", msg);\n",
       "                callback(fig, msg);\n",
       "            } catch (e) {\n",
       "                console.log(\"Exception inside the 'handler_\" + msg_type + \"' callback:\", e, e.stack, msg);\n",
       "            }\n",
       "        }\n",
       "    };\n",
       "}\n",
       "\n",
       "// from http://stackoverflow.com/questions/1114465/getting-mouse-location-in-canvas\n",
       "mpl.findpos = function(e) {\n",
       "    //this section is from http://www.quirksmode.org/js/events_properties.html\n",
       "    var targ;\n",
       "    if (!e)\n",
       "        e = window.event;\n",
       "    if (e.target)\n",
       "        targ = e.target;\n",
       "    else if (e.srcElement)\n",
       "        targ = e.srcElement;\n",
       "    if (targ.nodeType == 3) // defeat Safari bug\n",
       "        targ = targ.parentNode;\n",
       "\n",
       "    // jQuery normalizes the pageX and pageY\n",
       "    // pageX,Y are the mouse positions relative to the document\n",
       "    // offset() returns the position of the element relative to the document\n",
       "    var x = e.pageX - $(targ).offset().left;\n",
       "    var y = e.pageY - $(targ).offset().top;\n",
       "\n",
       "    return {\"x\": x, \"y\": y};\n",
       "};\n",
       "\n",
       "/*\n",
       " * return a copy of an object with only non-object keys\n",
       " * we need this to avoid circular references\n",
       " * http://stackoverflow.com/a/24161582/3208463\n",
       " */\n",
       "function simpleKeys (original) {\n",
       "  return Object.keys(original).reduce(function (obj, key) {\n",
       "    if (typeof original[key] !== 'object')\n",
       "        obj[key] = original[key]\n",
       "    return obj;\n",
       "  }, {});\n",
       "}\n",
       "\n",
       "mpl.figure.prototype.mouse_event = function(event, name) {\n",
       "    var canvas_pos = mpl.findpos(event)\n",
       "\n",
       "    if (name === 'button_press')\n",
       "    {\n",
       "        this.canvas.focus();\n",
       "        this.canvas_div.focus();\n",
       "    }\n",
       "\n",
       "    var x = canvas_pos.x * mpl.ratio;\n",
       "    var y = canvas_pos.y * mpl.ratio;\n",
       "\n",
       "    this.send_message(name, {x: x, y: y, button: event.button,\n",
       "                             step: event.step,\n",
       "                             guiEvent: simpleKeys(event)});\n",
       "\n",
       "    /* This prevents the web browser from automatically changing to\n",
       "     * the text insertion cursor when the button is pressed.  We want\n",
       "     * to control all of the cursor setting manually through the\n",
       "     * 'cursor' event from matplotlib */\n",
       "    event.preventDefault();\n",
       "    return false;\n",
       "}\n",
       "\n",
       "mpl.figure.prototype._key_event_extra = function(event, name) {\n",
       "    // Handle any extra behaviour associated with a key event\n",
       "}\n",
       "\n",
       "mpl.figure.prototype.key_event = function(event, name) {\n",
       "\n",
       "    // Prevent repeat events\n",
       "    if (name == 'key_press')\n",
       "    {\n",
       "        if (event.which === this._key)\n",
       "            return;\n",
       "        else\n",
       "            this._key = event.which;\n",
       "    }\n",
       "    if (name == 'key_release')\n",
       "        this._key = null;\n",
       "\n",
       "    var value = '';\n",
       "    if (event.ctrlKey && event.which != 17)\n",
       "        value += \"ctrl+\";\n",
       "    if (event.altKey && event.which != 18)\n",
       "        value += \"alt+\";\n",
       "    if (event.shiftKey && event.which != 16)\n",
       "        value += \"shift+\";\n",
       "\n",
       "    value += 'k';\n",
       "    value += event.which.toString();\n",
       "\n",
       "    this._key_event_extra(event, name);\n",
       "\n",
       "    this.send_message(name, {key: value,\n",
       "                             guiEvent: simpleKeys(event)});\n",
       "    return false;\n",
       "}\n",
       "\n",
       "mpl.figure.prototype.toolbar_button_onclick = function(name) {\n",
       "    if (name == 'download') {\n",
       "        this.handle_save(this, null);\n",
       "    } else {\n",
       "        this.send_message(\"toolbar_button\", {name: name});\n",
       "    }\n",
       "};\n",
       "\n",
       "mpl.figure.prototype.toolbar_button_onmouseover = function(tooltip) {\n",
       "    this.message.textContent = tooltip;\n",
       "};\n",
       "mpl.toolbar_items = [[\"Home\", \"Reset original view\", \"fa fa-home icon-home\", \"home\"], [\"Back\", \"Back to  previous view\", \"fa fa-arrow-left icon-arrow-left\", \"back\"], [\"Forward\", \"Forward to next view\", \"fa fa-arrow-right icon-arrow-right\", \"forward\"], [\"\", \"\", \"\", \"\"], [\"Pan\", \"Pan axes with left mouse, zoom with right\", \"fa fa-arrows icon-move\", \"pan\"], [\"Zoom\", \"Zoom to rectangle\", \"fa fa-square-o icon-check-empty\", \"zoom\"], [\"\", \"\", \"\", \"\"], [\"Download\", \"Download plot\", \"fa fa-floppy-o icon-save\", \"download\"]];\n",
       "\n",
       "mpl.extensions = [\"eps\", \"jpeg\", \"pdf\", \"png\", \"ps\", \"raw\", \"svg\", \"tif\"];\n",
       "\n",
       "mpl.default_extension = \"png\";var comm_websocket_adapter = function(comm) {\n",
       "    // Create a \"websocket\"-like object which calls the given IPython comm\n",
       "    // object with the appropriate methods. Currently this is a non binary\n",
       "    // socket, so there is still some room for performance tuning.\n",
       "    var ws = {};\n",
       "\n",
       "    ws.close = function() {\n",
       "        comm.close()\n",
       "    };\n",
       "    ws.send = function(m) {\n",
       "        //console.log('sending', m);\n",
       "        comm.send(m);\n",
       "    };\n",
       "    // Register the callback with on_msg.\n",
       "    comm.on_msg(function(msg) {\n",
       "        //console.log('receiving', msg['content']['data'], msg);\n",
       "        // Pass the mpl event to the overriden (by mpl) onmessage function.\n",
       "        ws.onmessage(msg['content']['data'])\n",
       "    });\n",
       "    return ws;\n",
       "}\n",
       "\n",
       "mpl.mpl_figure_comm = function(comm, msg) {\n",
       "    // This is the function which gets called when the mpl process\n",
       "    // starts-up an IPython Comm through the \"matplotlib\" channel.\n",
       "\n",
       "    var id = msg.content.data.id;\n",
       "    // Get hold of the div created by the display call when the Comm\n",
       "    // socket was opened in Python.\n",
       "    var element = $(\"#\" + id);\n",
       "    var ws_proxy = comm_websocket_adapter(comm)\n",
       "\n",
       "    function ondownload(figure, format) {\n",
       "        window.open(figure.imageObj.src);\n",
       "    }\n",
       "\n",
       "    var fig = new mpl.figure(id, ws_proxy,\n",
       "                           ondownload,\n",
       "                           element.get(0));\n",
       "\n",
       "    // Call onopen now - mpl needs it, as it is assuming we've passed it a real\n",
       "    // web socket which is closed, not our websocket->open comm proxy.\n",
       "    ws_proxy.onopen();\n",
       "\n",
       "    fig.parent_element = element.get(0);\n",
       "    fig.cell_info = mpl.find_output_cell(\"<div id='\" + id + \"'></div>\");\n",
       "    if (!fig.cell_info) {\n",
       "        console.error(\"Failed to find cell for figure\", id, fig);\n",
       "        return;\n",
       "    }\n",
       "\n",
       "    var output_index = fig.cell_info[2]\n",
       "    var cell = fig.cell_info[0];\n",
       "\n",
       "};\n",
       "\n",
       "mpl.figure.prototype.handle_close = function(fig, msg) {\n",
       "    var width = fig.canvas.width/mpl.ratio\n",
       "    fig.root.unbind('remove')\n",
       "\n",
       "    // Update the output cell to use the data from the current canvas.\n",
       "    fig.push_to_output();\n",
       "    var dataURL = fig.canvas.toDataURL();\n",
       "    // Re-enable the keyboard manager in IPython - without this line, in FF,\n",
       "    // the notebook keyboard shortcuts fail.\n",
       "    IPython.keyboard_manager.enable()\n",
       "    $(fig.parent_element).html('<img src=\"' + dataURL + '\" width=\"' + width + '\">');\n",
       "    fig.close_ws(fig, msg);\n",
       "}\n",
       "\n",
       "mpl.figure.prototype.close_ws = function(fig, msg){\n",
       "    fig.send_message('closing', msg);\n",
       "    // fig.ws.close()\n",
       "}\n",
       "\n",
       "mpl.figure.prototype.push_to_output = function(remove_interactive) {\n",
       "    // Turn the data on the canvas into data in the output cell.\n",
       "    var width = this.canvas.width/mpl.ratio\n",
       "    var dataURL = this.canvas.toDataURL();\n",
       "    this.cell_info[1]['text/html'] = '<img src=\"' + dataURL + '\" width=\"' + width + '\">';\n",
       "}\n",
       "\n",
       "mpl.figure.prototype.updated_canvas_event = function() {\n",
       "    // Tell IPython that the notebook contents must change.\n",
       "    IPython.notebook.set_dirty(true);\n",
       "    this.send_message(\"ack\", {});\n",
       "    var fig = this;\n",
       "    // Wait a second, then push the new image to the DOM so\n",
       "    // that it is saved nicely (might be nice to debounce this).\n",
       "    setTimeout(function () { fig.push_to_output() }, 1000);\n",
       "}\n",
       "\n",
       "mpl.figure.prototype._init_toolbar = function() {\n",
       "    var fig = this;\n",
       "\n",
       "    var nav_element = $('<div/>')\n",
       "    nav_element.attr('style', 'width: 100%');\n",
       "    this.root.append(nav_element);\n",
       "\n",
       "    // Define a callback function for later on.\n",
       "    function toolbar_event(event) {\n",
       "        return fig.toolbar_button_onclick(event['data']);\n",
       "    }\n",
       "    function toolbar_mouse_event(event) {\n",
       "        return fig.toolbar_button_onmouseover(event['data']);\n",
       "    }\n",
       "\n",
       "    for(var toolbar_ind in mpl.toolbar_items){\n",
       "        var name = mpl.toolbar_items[toolbar_ind][0];\n",
       "        var tooltip = mpl.toolbar_items[toolbar_ind][1];\n",
       "        var image = mpl.toolbar_items[toolbar_ind][2];\n",
       "        var method_name = mpl.toolbar_items[toolbar_ind][3];\n",
       "\n",
       "        if (!name) { continue; };\n",
       "\n",
       "        var button = $('<button class=\"btn btn-default\" href=\"#\" title=\"' + name + '\"><i class=\"fa ' + image + ' fa-lg\"></i></button>');\n",
       "        button.click(method_name, toolbar_event);\n",
       "        button.mouseover(tooltip, toolbar_mouse_event);\n",
       "        nav_element.append(button);\n",
       "    }\n",
       "\n",
       "    // Add the status bar.\n",
       "    var status_bar = $('<span class=\"mpl-message\" style=\"text-align:right; float: right;\"/>');\n",
       "    nav_element.append(status_bar);\n",
       "    this.message = status_bar[0];\n",
       "\n",
       "    // Add the close button to the window.\n",
       "    var buttongrp = $('<div class=\"btn-group inline pull-right\"></div>');\n",
       "    var button = $('<button class=\"btn btn-mini btn-primary\" href=\"#\" title=\"Stop Interaction\"><i class=\"fa fa-power-off icon-remove icon-large\"></i></button>');\n",
       "    button.click(function (evt) { fig.handle_close(fig, {}); } );\n",
       "    button.mouseover('Stop Interaction', toolbar_mouse_event);\n",
       "    buttongrp.append(button);\n",
       "    var titlebar = this.root.find($('.ui-dialog-titlebar'));\n",
       "    titlebar.prepend(buttongrp);\n",
       "}\n",
       "\n",
       "mpl.figure.prototype._root_extra_style = function(el){\n",
       "    var fig = this\n",
       "    el.on(\"remove\", function(){\n",
       "\tfig.close_ws(fig, {});\n",
       "    });\n",
       "}\n",
       "\n",
       "mpl.figure.prototype._canvas_extra_style = function(el){\n",
       "    // this is important to make the div 'focusable\n",
       "    el.attr('tabindex', 0)\n",
       "    // reach out to IPython and tell the keyboard manager to turn it's self\n",
       "    // off when our div gets focus\n",
       "\n",
       "    // location in version 3\n",
       "    if (IPython.notebook.keyboard_manager) {\n",
       "        IPython.notebook.keyboard_manager.register_events(el);\n",
       "    }\n",
       "    else {\n",
       "        // location in version 2\n",
       "        IPython.keyboard_manager.register_events(el);\n",
       "    }\n",
       "\n",
       "}\n",
       "\n",
       "mpl.figure.prototype._key_event_extra = function(event, name) {\n",
       "    var manager = IPython.notebook.keyboard_manager;\n",
       "    if (!manager)\n",
       "        manager = IPython.keyboard_manager;\n",
       "\n",
       "    // Check for shift+enter\n",
       "    if (event.shiftKey && event.which == 13) {\n",
       "        this.canvas_div.blur();\n",
       "        // select the cell after this one\n",
       "        var index = IPython.notebook.find_cell_index(this.cell_info[0]);\n",
       "        IPython.notebook.select(index + 1);\n",
       "    }\n",
       "}\n",
       "\n",
       "mpl.figure.prototype.handle_save = function(fig, msg) {\n",
       "    fig.ondownload(fig, null);\n",
       "}\n",
       "\n",
       "\n",
       "mpl.find_output_cell = function(html_output) {\n",
       "    // Return the cell and output element which can be found *uniquely* in the notebook.\n",
       "    // Note - this is a bit hacky, but it is done because the \"notebook_saving.Notebook\"\n",
       "    // IPython event is triggered only after the cells have been serialised, which for\n",
       "    // our purposes (turning an active figure into a static one), is too late.\n",
       "    var cells = IPython.notebook.get_cells();\n",
       "    var ncells = cells.length;\n",
       "    for (var i=0; i<ncells; i++) {\n",
       "        var cell = cells[i];\n",
       "        if (cell.cell_type === 'code'){\n",
       "            for (var j=0; j<cell.output_area.outputs.length; j++) {\n",
       "                var data = cell.output_area.outputs[j];\n",
       "                if (data.data) {\n",
       "                    // IPython >= 3 moved mimebundle to data attribute of output\n",
       "                    data = data.data;\n",
       "                }\n",
       "                if (data['text/html'] == html_output) {\n",
       "                    return [cell, data, j];\n",
       "                }\n",
       "            }\n",
       "        }\n",
       "    }\n",
       "}\n",
       "\n",
       "// Register the function which deals with the matplotlib target/channel.\n",
       "// The kernel may be null if the page has been refreshed.\n",
       "if (IPython.notebook.kernel != null) {\n",
       "    IPython.notebook.kernel.comm_manager.register_target('matplotlib', mpl.mpl_figure_comm);\n",
       "}\n"
      ],
      "text/plain": [
       "<IPython.core.display.Javascript object>"
      ]
     },
     "metadata": {},
     "output_type": "display_data"
    },
    {
     "data": {
      "text/html": [
       "<img src=\"data:image/png;base64,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\" width=\"432\">"
      ],
      "text/plain": [
       "<IPython.core.display.HTML object>"
      ]
     },
     "metadata": {},
     "output_type": "display_data"
    }
   ],
   "source": [
    "import networkx as nx\n",
    "import numpy as np\n",
    "import pandas as pd\n",
    "%matplotlib notebook\n",
    "\n",
    "# Instantiate the graph\n",
    "G1 = nx.Graph()\n",
    "# add node/edge pairs\n",
    "G1.add_edges_from([(0, 1),\n",
    "                   (0, 2),\n",
    "                   (0, 3),\n",
    "                   (0, 5),\n",
    "                   (1, 3),\n",
    "                   (1, 6),\n",
    "                   (3, 4),\n",
    "                   (4, 5),\n",
    "                   (4, 7),\n",
    "                   (5, 8),\n",
    "                   (8, 9)])\n",
    "\n",
    "# draw the network G1\n",
    "nx.draw_networkx(G1)"
   ]
  },
  {
   "cell_type": "markdown",
   "metadata": {},
   "source": [
    "### Adjacency List\n",
    "G_adjlist.txt is the adjaceny list representation of G1.<br>\n",
    "It can be read as follows:<br>\n",
    "0 1 2 3 5 $\\rightarrow$ node 0 is adjacent to nodes 1, 2, 3, 5<br>\n",
    "1 3 6 $\\rightarrow$ node 1 is (also) adjacent to nodes 3, 6<br>\n",
    "2 $\\rightarrow$ node 2 is (also) adjacent to no new nodes<br>\n",
    "3 4 $\\rightarrow$ node 3 is (also) adjacent to node 4<br>\n",
    "and so on. Note that adjacencies are only accounted for once (e.g. node 2 is adjacent to node 0, but node 0 is not listed in node 2's row, because that edge has already been accounted for in node 0's row)."
   ]
  },
  {
   "cell_type": "code",
   "execution_count": 47,
   "metadata": {},
   "outputs": [
    {
     "name": "stdout",
     "output_type": "stream",
     "text": [
      "0 1 2 3 5\r\n",
      "1 3 6\r\n",
      "2\r\n",
      "3 4\r\n",
      "4 5 7\r\n",
      "5 8\r\n",
      "6\r\n",
      "7\r\n",
      "8 9\r\n",
      "9"
     ]
    }
   ],
   "source": [
    "!cat G_adjlist.txt"
   ]
  },
  {
   "cell_type": "code",
   "execution_count": 48,
   "metadata": {
    "collapsed": true
   },
   "outputs": [],
   "source": [
    "G3=nx.Graph()"
   ]
  },
  {
   "cell_type": "code",
   "execution_count": 49,
   "metadata": {},
   "outputs": [
    {
     "data": {
      "text/plain": [
       "[(0, 1),\n",
       " (0, 2),\n",
       " (0, 3),\n",
       " (0, 5),\n",
       " (1, 3),\n",
       " (1, 6),\n",
       " (3, 4),\n",
       " (4, 5),\n",
       " (4, 7),\n",
       " (5, 8),\n",
       " (8, 9)]"
      ]
     },
     "execution_count": 49,
     "metadata": {},
     "output_type": "execute_result"
    }
   ],
   "source": [
    "G2 = nx.read_adjlist('G_adjlist.txt', nodetype=int)\n",
    "G2.edges()"
   ]
  },
  {
   "cell_type": "markdown",
   "metadata": {},
   "source": [
    "### Adjacency Matrix\n",
    "The elements in an adjacency matrix indicate whether pairs of vertices are adjacent or not in the graph.<br> Each node has a corresponding row and column.<br> For example, row 0, column 1 corresponds to the edge between node 0 and node 1.<br>\n",
    "Reading across row 0, there is a '1' in columns 1, 2, 3, and 5, which indicates that node 0 is adjacent to nodes 1, 2, 3, and 5\n",
    "In [4]:\n",
    "\n"
   ]
  },
  {
   "cell_type": "code",
   "execution_count": 50,
   "metadata": {},
   "outputs": [
    {
     "data": {
      "text/plain": [
       "array([[0, 1, 1, 1, 0, 1, 0, 0, 0, 0],\n",
       "       [1, 0, 0, 1, 0, 0, 1, 0, 0, 0],\n",
       "       [1, 0, 0, 0, 0, 0, 0, 0, 0, 0],\n",
       "       [1, 1, 0, 0, 1, 0, 0, 0, 0, 0],\n",
       "       [0, 0, 0, 1, 0, 1, 0, 1, 0, 0],\n",
       "       [1, 0, 0, 0, 1, 0, 0, 0, 1, 0],\n",
       "       [0, 1, 0, 0, 0, 0, 0, 0, 0, 0],\n",
       "       [0, 0, 0, 0, 1, 0, 0, 0, 0, 0],\n",
       "       [0, 0, 0, 0, 0, 1, 0, 0, 0, 1],\n",
       "       [0, 0, 0, 0, 0, 0, 0, 0, 1, 0]])"
      ]
     },
     "execution_count": 50,
     "metadata": {},
     "output_type": "execute_result"
    }
   ],
   "source": [
    "G_mat = np.array([[0, 1, 1, 1, 0, 1, 0, 0, 0, 0],\n",
    "                  [1, 0, 0, 1, 0, 0, 1, 0, 0, 0],\n",
    "                  [1, 0, 0, 0, 0, 0, 0, 0, 0, 0],\n",
    "                  [1, 1, 0, 0, 1, 0, 0, 0, 0, 0],\n",
    "                  [0, 0, 0, 1, 0, 1, 0, 1, 0, 0],\n",
    "                  [1, 0, 0, 0, 1, 0, 0, 0, 1, 0],\n",
    "                  [0, 1, 0, 0, 0, 0, 0, 0, 0, 0],\n",
    "                  [0, 0, 0, 0, 1, 0, 0, 0, 0, 0],\n",
    "                  [0, 0, 0, 0, 0, 1, 0, 0, 0, 1],\n",
    "                  [0, 0, 0, 0, 0, 0, 0, 0, 1, 0]])\n",
    "G_mat"
   ]
  },
  {
   "cell_type": "code",
   "execution_count": 51,
   "metadata": {},
   "outputs": [
    {
     "data": {
      "text/plain": [
       "[(0, 1),\n",
       " (0, 2),\n",
       " (0, 3),\n",
       " (0, 5),\n",
       " (1, 3),\n",
       " (1, 6),\n",
       " (3, 4),\n",
       " (4, 5),\n",
       " (4, 7),\n",
       " (5, 8),\n",
       " (8, 9)]"
      ]
     },
     "execution_count": 51,
     "metadata": {},
     "output_type": "execute_result"
    }
   ],
   "source": [
    "G3 = nx.Graph(G_mat)\n",
    "G3.edges()"
   ]
  },
  {
   "cell_type": "code",
   "execution_count": 52,
   "metadata": {},
   "outputs": [
    {
     "name": "stdout",
     "output_type": "stream",
     "text": [
      "0 1 4\r\n",
      "0 2 3\r\n",
      "0 3 2\r\n",
      "0 5 6\r\n",
      "1 3 2\r\n",
      "1 6 5\r\n",
      "3 4 3\r\n",
      "4 5 1\r\n",
      "4 7 2\r\n",
      "5 8 6\r\n",
      "8 9 1\r\n"
     ]
    }
   ],
   "source": [
    "!cat G_edgelist.txt"
   ]
  },
  {
   "cell_type": "code",
   "execution_count": 53,
   "metadata": {},
   "outputs": [
    {
     "data": {
      "text/plain": [
       "[('1', '0', {'Weight': 4}),\n",
       " ('1', '3', {'Weight': 2}),\n",
       " ('1', '6', {'Weight': 5}),\n",
       " ('7', '4', {'Weight': 2}),\n",
       " ('5', '8', {'Weight': 6}),\n",
       " ('5', '0', {'Weight': 6}),\n",
       " ('5', '4', {'Weight': 1}),\n",
       " ('9', '8', {'Weight': 1}),\n",
       " ('2', '0', {'Weight': 3}),\n",
       " ('0', '3', {'Weight': 2}),\n",
       " ('3', '4', {'Weight': 3})]"
      ]
     },
     "execution_count": 53,
     "metadata": {},
     "output_type": "execute_result"
    }
   ],
   "source": [
    "G4 = nx.read_edgelist('G_edgelist.txt', data=[('Weight', int)])\n",
    "\n",
    "G4.edges(data=True)"
   ]
  },
  {
   "cell_type": "markdown",
   "metadata": {},
   "source": [
    "##### Pandas DataFrame\n",
    "Graphs can also be created from pandas dataframes if they are in edge list format."
   ]
  },
  {
   "cell_type": "code",
   "execution_count": 54,
   "metadata": {},
   "outputs": [
    {
     "data": {
      "text/html": [
       "<div>\n",
       "<style>\n",
       "    .dataframe thead tr:only-child th {\n",
       "        text-align: right;\n",
       "    }\n",
       "\n",
       "    .dataframe thead th {\n",
       "        text-align: left;\n",
       "    }\n",
       "\n",
       "    .dataframe tbody tr th {\n",
       "        vertical-align: top;\n",
       "    }\n",
       "</style>\n",
       "<table border=\"1\" class=\"dataframe\">\n",
       "  <thead>\n",
       "    <tr style=\"text-align: right;\">\n",
       "      <th></th>\n",
       "      <th>n1</th>\n",
       "      <th>n2</th>\n",
       "      <th>weight</th>\n",
       "    </tr>\n",
       "  </thead>\n",
       "  <tbody>\n",
       "    <tr>\n",
       "      <th>0</th>\n",
       "      <td>0</td>\n",
       "      <td>1</td>\n",
       "      <td>4</td>\n",
       "    </tr>\n",
       "    <tr>\n",
       "      <th>1</th>\n",
       "      <td>0</td>\n",
       "      <td>2</td>\n",
       "      <td>3</td>\n",
       "    </tr>\n",
       "    <tr>\n",
       "      <th>2</th>\n",
       "      <td>0</td>\n",
       "      <td>3</td>\n",
       "      <td>2</td>\n",
       "    </tr>\n",
       "    <tr>\n",
       "      <th>3</th>\n",
       "      <td>0</td>\n",
       "      <td>5</td>\n",
       "      <td>6</td>\n",
       "    </tr>\n",
       "    <tr>\n",
       "      <th>4</th>\n",
       "      <td>1</td>\n",
       "      <td>3</td>\n",
       "      <td>2</td>\n",
       "    </tr>\n",
       "    <tr>\n",
       "      <th>5</th>\n",
       "      <td>1</td>\n",
       "      <td>6</td>\n",
       "      <td>5</td>\n",
       "    </tr>\n",
       "    <tr>\n",
       "      <th>6</th>\n",
       "      <td>3</td>\n",
       "      <td>4</td>\n",
       "      <td>3</td>\n",
       "    </tr>\n",
       "    <tr>\n",
       "      <th>7</th>\n",
       "      <td>4</td>\n",
       "      <td>5</td>\n",
       "      <td>1</td>\n",
       "    </tr>\n",
       "    <tr>\n",
       "      <th>8</th>\n",
       "      <td>4</td>\n",
       "      <td>7</td>\n",
       "      <td>2</td>\n",
       "    </tr>\n",
       "    <tr>\n",
       "      <th>9</th>\n",
       "      <td>5</td>\n",
       "      <td>8</td>\n",
       "      <td>6</td>\n",
       "    </tr>\n",
       "    <tr>\n",
       "      <th>10</th>\n",
       "      <td>8</td>\n",
       "      <td>9</td>\n",
       "      <td>1</td>\n",
       "    </tr>\n",
       "  </tbody>\n",
       "</table>\n",
       "</div>"
      ],
      "text/plain": [
       "    n1  n2  weight\n",
       "0    0   1       4\n",
       "1    0   2       3\n",
       "2    0   3       2\n",
       "3    0   5       6\n",
       "4    1   3       2\n",
       "5    1   6       5\n",
       "6    3   4       3\n",
       "7    4   5       1\n",
       "8    4   7       2\n",
       "9    5   8       6\n",
       "10   8   9       1"
      ]
     },
     "execution_count": 54,
     "metadata": {},
     "output_type": "execute_result"
    }
   ],
   "source": [
    "G_df = pd.read_csv('G_edgelist.txt', delim_whitespace=True, \n",
    "                   header=None, names=['n1', 'n2', 'weight'])\n",
    "G_df"
   ]
  },
  {
   "cell_type": "code",
   "execution_count": 55,
   "metadata": {},
   "outputs": [
    {
     "data": {
      "text/plain": [
       "[(0, 1, {'weight': 4}),\n",
       " (0, 2, {'weight': 3}),\n",
       " (0, 3, {'weight': 2}),\n",
       " (0, 5, {'weight': 6}),\n",
       " (1, 3, {'weight': 2}),\n",
       " (1, 6, {'weight': 5}),\n",
       " (3, 4, {'weight': 3}),\n",
       " (4, 5, {'weight': 1}),\n",
       " (4, 7, {'weight': 2}),\n",
       " (5, 8, {'weight': 6}),\n",
       " (8, 9, {'weight': 1})]"
      ]
     },
     "execution_count": 55,
     "metadata": {},
     "output_type": "execute_result"
    }
   ],
   "source": [
    "G5 = nx.from_pandas_dataframe(G_df, 'n1', 'n2', edge_attr='weight')\n",
    "G5.edges(data=True)"
   ]
  },
  {
   "cell_type": "code",
   "execution_count": 56,
   "metadata": {},
   "outputs": [
    {
     "data": {
      "text/plain": [
       "[(0, 1, {'weight': 4}),\n",
       " (0, 2, {'weight': 3}),\n",
       " (0, 3, {'weight': 2}),\n",
       " (0, 5, {'weight': 6}),\n",
       " (1, 3, {'weight': 2}),\n",
       " (1, 6, {'weight': 5}),\n",
       " (3, 4, {'weight': 3}),\n",
       " (4, 5, {'weight': 1}),\n",
       " (4, 7, {'weight': 2}),\n",
       " (5, 8, {'weight': 6}),\n",
       " (8, 9, {'weight': 1})]"
      ]
     },
     "execution_count": 56,
     "metadata": {},
     "output_type": "execute_result"
    }
   ],
   "source": [
    "G5 = nx.from_pandas_dataframe(G_df, 'n1', 'n2', edge_attr='weight')\n",
    "G5.edges(data=True)"
   ]
  },
  {
   "cell_type": "markdown",
   "metadata": {},
   "source": [
    "##### assignment"
   ]
  },
  {
   "cell_type": "code",
   "execution_count": 57,
   "metadata": {
    "collapsed": true
   },
   "outputs": [],
   "source": [
    "import networkx as nx\n",
    "import pandas as pd\n",
    "import numpy as np\n",
    "from networkx.algorithms import bipartite\n",
    "\n",
    "\n",
    "# This is the set of employees\n",
    "employees = set(['Pablo',\n",
    "                 'Lee',\n",
    "                 'Georgia',\n",
    "                 'Vincent',\n",
    "                 'Andy',\n",
    "                 'Frida',\n",
    "                 'Joan',\n",
    "                 'Claude'])\n",
    "\n",
    "# This is the set of movies\n",
    "movies = set(['The Shawshank Redemption',\n",
    "              'Forrest Gump',\n",
    "              'The Matrix',\n",
    "              'Anaconda',\n",
    "              'The Social Network',\n",
    "              'The Godfather',\n",
    "              'Monty Python and the Holy Grail',\n",
    "              'Snakes on a Plane',\n",
    "              'Kung Fu Panda',\n",
    "              'The Dark Knight',\n",
    "              'Mean Girls'])\n",
    "\n",
    "\n",
    "# you can use the following function to plot graphs\n",
    "# make sure to comment it out before submitting to the autograder\n",
    "def plot_graph(G, weight_name=None):\n",
    "    '''\n",
    "    G: a networkx G\n",
    "    weight_name: name of the attribute for plotting edge weights (if G is weighted)\n",
    "    '''\n",
    "    %matplotlib notebook\n",
    "    import matplotlib.pyplot as plt\n",
    "    \n",
    "    plt.figure()\n",
    "    pos = nx.spring_layout(G)\n",
    "    edges = G.edges()\n",
    "    weights = None\n",
    "    \n",
    "    if weight_name:\n",
    "        weights = [int(G[u][v][weight_name]) for u,v in edges]\n",
    "        labels = nx.get_edge_attributes(G,weight_name)\n",
    "        nx.draw_networkx_edge_labels(G,pos,edge_labels=labels)\n",
    "        nx.draw_networkx(G, pos, edges=edges, width=weights);\n",
    "    else:\n",
    "        nx.draw_networkx(G, pos, edges=edges);"
   ]
  },
  {
   "cell_type": "code",
   "execution_count": null,
   "metadata": {
    "collapsed": true
   },
   "outputs": [],
   "source": []
  }
 ],
 "metadata": {
  "kernelspec": {
   "display_name": "Python 3",
   "language": "python",
   "name": "python3"
  },
  "language_info": {
   "codemirror_mode": {
    "name": "ipython",
    "version": 3
   },
   "file_extension": ".py",
   "mimetype": "text/x-python",
   "name": "python",
   "nbconvert_exporter": "python",
   "pygments_lexer": "ipython3",
   "version": "3.4.3"
  }
 },
 "nbformat": 4,
 "nbformat_minor": 2
}
