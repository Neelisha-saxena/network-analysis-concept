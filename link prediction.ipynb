{
 "cells": [
  {
   "cell_type": "code",
   "execution_count": 1,
   "metadata": {
    "collapsed": true
   },
   "outputs": [],
   "source": [
    "import networkx as nx"
   ]
  },
  {
   "cell_type": "code",
   "execution_count": 2,
   "metadata": {
    "collapsed": true
   },
   "outputs": [],
   "source": [
    "G=nx.karate_club_graph()\n",
    "G=nx.convert_node_labels_to_integers(G,first_label=1)"
   ]
  },
  {
   "cell_type": "markdown",
   "metadata": {},
   "source": [
    "#  common -neighbour prediction\n",
    "\n",
    "N(X) intersection N(Y)"
   ]
  },
  {
   "cell_type": "code",
   "execution_count": 3,
   "metadata": {
    "collapsed": true
   },
   "outputs": [],
   "source": [
    "common=[(e[0],e[1],len(list(nx.common_neighbors(G,e[0],e[1])))) for e in nx.non_edges(G)]"
   ]
  },
  {
   "cell_type": "code",
   "execution_count": 4,
   "metadata": {
    "collapsed": true
   },
   "outputs": [],
   "source": [
    "import operator\n"
   ]
  },
  {
   "cell_type": "code",
   "execution_count": 5,
   "metadata": {
    "collapsed": true
   },
   "outputs": [],
   "source": [
    "common_high=sorted(common,key=operator.itemgetter(2),reverse=True)"
   ]
  },
  {
   "cell_type": "code",
   "execution_count": 6,
   "metadata": {},
   "outputs": [
    {
     "data": {
      "text/plain": [
       "[(3, 34, 6), (1, 34, 4), (8, 14, 4)]"
      ]
     },
     "execution_count": 6,
     "metadata": {},
     "output_type": "execute_result"
    }
   ],
   "source": [
    "common_high[:3]"
   ]
  },
  {
   "cell_type": "markdown",
   "metadata": {},
   "source": [
    "## jaccards coefficient\n",
    "N(x) intersection N(y) / N(x) union N(y)"
   ]
  },
  {
   "cell_type": "code",
   "execution_count": 7,
   "metadata": {},
   "outputs": [
    {
     "data": {
      "text/plain": [
       "0.14285714285714285"
      ]
     },
     "execution_count": 7,
     "metadata": {},
     "output_type": "execute_result"
    }
   ],
   "source": [
    "1/7"
   ]
  },
  {
   "cell_type": "code",
   "execution_count": 8,
   "metadata": {},
   "outputs": [
    {
     "data": {
      "text/plain": [
       "[(15, 16, 1.0), (15, 19, 1.0), (15, 21, 1.0), (15, 23, 1.0), (16, 19, 1.0)]"
      ]
     },
     "execution_count": 8,
     "metadata": {},
     "output_type": "execute_result"
    }
   ],
   "source": [
    "com=list(nx.jaccard_coefficient(G)) # it already take non_edge\"\n",
    "\n",
    "comm_high=list(sorted(com,key=operator.itemgetter(2),reverse=True))\n",
    "\n",
    "comm_high[:5]"
   ]
  },
  {
   "cell_type": "markdown",
   "metadata": {},
   "source": [
    "##  resource allocation\n",
    "res_all(x,y)= for u in common node of x and y(sum(1/deg(u))"
   ]
  },
  {
   "cell_type": "code",
   "execution_count": 10,
   "metadata": {},
   "outputs": [
    {
     "data": {
      "text/plain": [
       "[(15, 16, 1.0), (15, 19, 1.0), (15, 21, 1.0)]"
      ]
     },
     "execution_count": 10,
     "metadata": {},
     "output_type": "execute_result"
    }
   ],
   "source": [
    "res_comm=list(nx.jaccard_coefficient(G))\n",
    "res_high=list(sorted(com,key=operator.itemgetter(2),reverse=True))\n",
    "res_high[:3]"
   ]
  },
  {
   "cell_type": "markdown",
   "metadata": {},
   "source": [
    "##  academic-adar index \n",
    "===>u for all common node of x and y(sum(1/log(deg(u)))\n"
   ]
  },
  {
   "cell_type": "code",
   "execution_count": 11,
   "metadata": {},
   "outputs": [
    {
     "data": {
      "text/plain": [
       "[(15, 16, 1.0), (15, 19, 1.0), (15, 21, 1.0)]"
      ]
     },
     "execution_count": 11,
     "metadata": {},
     "output_type": "execute_result"
    }
   ],
   "source": [
    "res_comm=list(nx.adamic_adar_index(G))\n",
    "res_high=list(sorted(com,key=operator.itemgetter(2),reverse=True))\n",
    "res_high[:3]"
   ]
  },
  {
   "cell_type": "markdown",
   "metadata": {},
   "source": [
    "##  preferential attachment (x,y)\n",
    "<span style=\"color:Red\">high degree node likely to get connected</span><br>\n",
    "===>Neihbour(x)*Neihbour(y)"
   ]
  },
  {
   "cell_type": "code",
   "execution_count": 12,
   "metadata": {},
   "outputs": [
    {
     "data": {
      "text/plain": [
       "[(16, 23, 1.0), (18, 22, 1.0), (19, 21, 1.0)]"
      ]
     },
     "execution_count": 12,
     "metadata": {},
     "output_type": "execute_result"
    }
   ],
   "source": [
    "res_comm=list(nx.preferential_attachment(G))\n",
    "res_high=list(sorted(com,key=operator.itemgetter(2),reverse=True))\n",
    "res_high[6:9]"
   ]
  },
  {
   "cell_type": "markdown",
   "metadata": {
    "collapsed": true
   },
   "source": [
    "# common community neighbour\n",
    "==>N(X) intersection N(y)+f(u) u belongs to node in same community"
   ]
  },
  {
   "cell_type": "code",
   "execution_count": 23,
   "metadata": {
    "collapsed": true
   },
   "outputs": [],
   "source": [
    "G1=nx.Graph()\n",
    "G1.add_edges_from([(1,2),(2,3),(5,4),(4,3)])"
   ]
  },
  {
   "cell_type": "code",
   "execution_count": 28,
   "metadata": {},
   "outputs": [],
   "source": [
    "G1.node[1]['community']=0\n",
    "G1.node[2]['community']=1\n",
    "G1.node[3]['community']=1#assign communtiy to a node\n",
    "G1.node[4]['community']=1\n",
    "G1.node[5]['community']=0\n",
    "G1.node[1]['community']=1\n"
   ]
  },
  {
   "cell_type": "code",
   "execution_count": 29,
   "metadata": {},
   "outputs": [],
   "source": [
    "C=list(nx.cn_soundarajan_hopcroft(G1))"
   ]
  },
  {
   "cell_type": "code",
   "execution_count": 30,
   "metadata": {},
   "outputs": [
    {
     "data": {
      "text/plain": [
       "[(1, 3, 2), (1, 4, 0), (1, 5, 0), (2, 4, 2), (2, 5, 0), (3, 5, 1)]"
      ]
     },
     "execution_count": 30,
     "metadata": {},
     "output_type": "execute_result"
    }
   ],
   "source": [
    " C"
   ]
  },
  {
   "cell_type": "markdown",
   "metadata": {},
   "source": [
    "# communtiy resource allocation"
   ]
  },
  {
   "cell_type": "code",
   "execution_count": 33,
   "metadata": {
    "collapsed": true
   },
   "outputs": [],
   "source": [
    "L=list(nx.ra_index_soundarajan_hopcroft(G1))"
   ]
  },
  {
   "cell_type": "code",
   "execution_count": 34,
   "metadata": {},
   "outputs": [
    {
     "data": {
      "text/plain": [
       "[(1, 3, 0.5), (1, 4, 0), (1, 5, 0), (2, 4, 0.5), (2, 5, 0), (3, 5, 0)]"
      ]
     },
     "execution_count": 34,
     "metadata": {},
     "output_type": "execute_result"
    }
   ],
   "source": [
    "L"
   ]
  },
  {
   "cell_type": "markdown",
   "metadata": {},
   "source": [
    "## Read chapters 2 and 20 from \"Networks, Crowds, and Markets: Reasoning about a Highly Connected World\" By David Easley and Jon Kleinberg. Cambridge University Press, 2010 for a more in-depth take on the Small World Phenomenon.\n",
    "\n",
    "Chapter 2:<a href='http://www.cs.cornell.edu/home/kleinber/networks-book/networks-book-ch02.pdf'>Read it</a>\n",
    "\n",
    "Chapter 20:<a href='http://www.cs.cornell.edu/home/kleinber/networks-book/networks-book-ch20.pdf'>Read 2 </a>\n",
    "\n"
   ]
  },
  {
   "cell_type": "code",
   "execution_count": null,
   "metadata": {
    "collapsed": true
   },
   "outputs": [],
   "source": []
  }
 ],
 "metadata": {
  "kernelspec": {
   "display_name": "Python 3",
   "language": "python",
   "name": "python3"
  },
  "language_info": {
   "codemirror_mode": {
    "name": "ipython",
    "version": 3
   },
   "file_extension": ".py",
   "mimetype": "text/x-python",
   "name": "python",
   "nbconvert_exporter": "python",
   "pygments_lexer": "ipython3",
   "version": "3.4.3"
  }
 },
 "nbformat": 4,
 "nbformat_minor": 2
}
